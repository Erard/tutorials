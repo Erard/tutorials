{
 "cells": [
  {
   "cell_type": "markdown",
   "metadata": {},
   "source": [
    "# Access to public EPN-TAP data services through Jupyter notebook"
   ]
  },
  {
   "cell_type": "code",
   "execution_count": 1,
   "metadata": {},
   "outputs": [],
   "source": [
    "import pyvo as vo\n",
    "from matplotlib import pyplot as plt\n",
    "from astropy.table import Table\n",
    "import urllib\n",
    "#  beware that this is incompatible with IDLpy\n",
    "from astroquery.utils.tap.core import TapPlus  \n",
    "import astropy.io.votable as vot"
   ]
  },
  {
   "cell_type": "markdown",
   "metadata": {},
   "source": [
    "## 1- Search an EPN-TAP data service\n",
    "Example from VIRTIS / Venus-Express\n",
    "\n",
    "Here we search a service in the registry from keywords."
   ]
  },
  {
   "cell_type": "code",
   "execution_count": 2,
   "metadata": {
    "scrolled": true
   },
   "outputs": [],
   "source": [
    "# Search the VO registry for TAP services about the VIRTIS instrument"
   ]
  },
  {
   "cell_type": "code",
   "execution_count": 3,
   "metadata": {},
   "outputs": [
    {
     "name": "stdout",
     "output_type": "stream",
     "text": [
      "<bound method DALResults.to_table of <Table length=3>\n",
      "                 ivoid                        res_type      ... intf_roles\n",
      "                                                            ...           \n",
      "                 object                        object       ...   object  \n",
      "---------------------------------------- ------------------ ... ----------\n",
      "          ivo://cds.vizier/j/a+a/585/a53  vs:catalogservice ...        std\n",
      "         ivo://cds.vizier/j/a+a/647/a119  vs:catalogservice ...        std\n",
      "ivo://padc.obspm.planeto/vvex/q/epn_core vs:catalogresource ...        std>\n",
      "pyvo version: 1.4.1\n"
     ]
    }
   ],
   "source": [
    "tap_services = vo.registry.search(servicetype='tap',keywords=['VIRTIS'], includeaux=True)\n",
    "print(tap_services.to_table)\n",
    "\n",
    "print('pyvo version: '+vo.__version__)\n",
    "# will work in pyvo 1.5:\n",
    "#r2 = vo.registry.search(datamodel=\"epntap\")\n",
    "#r2\n"
   ]
  },
  {
   "cell_type": "markdown",
   "metadata": {},
   "source": [
    "We manually choose a service that uses the epn-tap data model (can be automatized in pyvo 1.5)"
   ]
  },
  {
   "cell_type": "code",
   "execution_count": 4,
   "metadata": {
    "scrolled": false
   },
   "outputs": [
    {
     "name": "stdout",
     "output_type": "stream",
     "text": [
      "schema and table to query: vvex.epn_core\n",
      "url of the TAP service: http://voparis-tap-planeto.obspm.fr/tap\n"
     ]
    }
   ],
   "source": [
    "tap_services = vo.registry.search(servicetype='tap',keywords=['VIRTIS'], ivoid='ivo://padc.obspm.planeto/vvex/q/epn_core', includeaux=True)\n",
    "resource = tap_services[0]\n",
    "mytable = list(resource.get_tables().keys())[0]\n",
    "print('schema and table to query:',mytable)\n",
    "myurl = resource.access_url\n",
    "print('url of the TAP service:',myurl)\n",
    "query = 'SELECT top 100 * FROM ' + mytable"
   ]
  },
  {
   "cell_type": "code",
   "execution_count": 5,
   "metadata": {
    "scrolled": true
   },
   "outputs": [
    {
     "name": "stdout",
     "output_type": "stream",
     "text": [
      "granule_uid granule_gid   obs_id  ... science_case_id sc_pointing_mode\n",
      "                                  ...                                 \n",
      "----------- ----------- --------- ... --------------- ----------------\n",
      " VI0096_06G    geometry VI0096_06 ...               2        NADIR_POW\n",
      " VI0096_07C  calibrated VI0096_07 ...               2        NADIR_POW\n",
      " VI0096_07G    geometry VI0096_07 ...               2        NADIR_POW\n",
      " VI0096_08C  calibrated VI0096_08 ...               2        NADIR_POW\n",
      " VI0096_08G    geometry VI0096_08 ...               2        NADIR_POW\n",
      " VI0096_09C  calibrated VI0096_09 ...               2        NADIR_POW\n",
      " VI0096_09G    geometry VI0096_09 ...               2        NADIR_POW\n",
      " VI0096_10C  calibrated VI0096_10 ...               2        NADIR_POW\n",
      " VI0096_10G    geometry VI0096_10 ...               2        NADIR_POW\n",
      " VI0096_11C  calibrated VI0096_11 ...               2        NADIR_POW\n",
      " VI0096_11G    geometry VI0096_11 ...               2        NADIR_POW\n",
      " VI0096_12C  calibrated VI0096_12 ...               2        NADIR_POW\n",
      " VI0096_12G    geometry VI0096_12 ...               2        NADIR_POW\n",
      " VI0096_13C  calibrated VI0096_13 ...               2        NADIR_POW\n",
      " VI0096_13G    geometry VI0096_13 ...               2        NADIR_POW\n",
      " VI0096_14C  calibrated VI0096_14 ...               2        NADIR_POW\n",
      " VI0096_14G    geometry VI0096_14 ...               2        NADIR_POW\n",
      " VI0096_15C  calibrated VI0096_15 ...               2        NADIR_POW\n",
      "        ...         ...       ... ...             ...              ...\n",
      " VI0098_08G    geometry VI0098_08 ...               2        NADIR_POW\n",
      " VI0098_09C  calibrated VI0098_09 ...               2        NADIR_POW\n",
      " VI0098_09G    geometry VI0098_09 ...               2        NADIR_POW\n",
      " VI0098_10C  calibrated VI0098_10 ...               2        NADIR_POW\n",
      " VI0098_10G    geometry VI0098_10 ...               2        NADIR_POW\n",
      " VI0098_11C  calibrated VI0098_11 ...               2        NADIR_POW\n",
      " VI0098_11G    geometry VI0098_11 ...               2        NADIR_POW\n",
      " VI0098_12C  calibrated VI0098_12 ...               2        NADIR_POW\n",
      " VI0098_12G    geometry VI0098_12 ...               2        NADIR_POW\n",
      " VI0098_13C  calibrated VI0098_13 ...               2        NADIR_POW\n",
      " VI0098_13G    geometry VI0098_13 ...               2        NADIR_POW\n",
      " VI0098_14C  calibrated VI0098_14 ...               2        NADIR_POW\n",
      " VI0098_14G    geometry VI0098_14 ...               2        NADIR_POW\n",
      " VI0098_15C  calibrated VI0098_15 ...               2        NADIR_POW\n",
      " VI0098_15G    geometry VI0098_15 ...               2        NADIR_POW\n",
      " VI0098_16C  calibrated VI0098_16 ...               2        NADIR_POW\n",
      " VI0098_16G    geometry VI0098_16 ...               2        NADIR_POW\n",
      " VI0098_17C  calibrated VI0098_17 ...               2        NADIR_POW\n",
      " VI0098_17G    geometry VI0098_17 ...               2        NADIR_POW\n",
      "Length = 100 rows\n"
     ]
    }
   ],
   "source": [
    "# query the EPN-TAP service with astroquery, retrieve all parameters for a few rows\n",
    "virtis = TapPlus(myurl)\n",
    "job = virtis.launch_job(query)\n",
    "r1 = job.get_results()\n",
    "print(r1)"
   ]
  },
  {
   "cell_type": "code",
   "execution_count": 6,
   "metadata": {},
   "outputs": [
    {
     "name": "stdout",
     "output_type": "stream",
     "text": [
      "granule_uid granule_gid   obs_id  ... science_case_id sc_pointing_mode\n",
      "                                  ...                                 \n",
      "----------- ----------- --------- ... --------------- ----------------\n",
      " VV0042_00C  calibrated VV0042_00 ...               7            INERT\n",
      " VV0028_00C  calibrated VV0028_00 ...               3           MOSAIC\n",
      " VV0026_04C  calibrated VV0026_04 ...               3           MOSAIC\n",
      " VV0099_06C  calibrated VV0099_06 ...               2        NADIR_POW\n",
      " VV0075_20C  calibrated VV0075_20 ...               1        NADIR_POW\n",
      " VV0075_19C  calibrated VV0075_19 ...               2        NADIR_POW\n",
      " VV0038_00C  calibrated VV0038_00 ...               2        NADIR_POW\n",
      " VV0028_07C  calibrated VV0028_07 ...               3           MOSAIC\n",
      " VV0029_01C  calibrated VV0029_01 ...               3           MOSAIC\n",
      " VV0028_04C  calibrated VV0028_04 ...               3           MOSAIC\n",
      " VV0029_07C  calibrated VV0029_07 ...               3           MOSAIC\n",
      " VV0028_06C  calibrated VV0028_06 ...               3           MOSAIC\n",
      " VV0029_08C  calibrated VV0029_08 ...               3           MOSAIC\n",
      " VV0025_06C  calibrated VV0025_06 ...               3           MOSAIC\n",
      " VV0025_08C  calibrated VV0025_08 ...               3           MOSAIC\n",
      " VV0025_04C  calibrated VV0025_04 ...               3           MOSAIC\n",
      " VV0026_06C  calibrated VV0026_06 ...               3           MOSAIC\n",
      " VV0026_07C  calibrated VV0026_07 ...               3           MOSAIC\n",
      "        ...         ...       ... ...             ...              ...\n",
      " VV0074_14C  calibrated VV0074_14 ...               2        NADIR_POW\n",
      " VV0076_10C  calibrated VV0076_10 ...               2        NADIR_POW\n",
      " VV0075_12C  calibrated VV0075_12 ...               2        NADIR_POW\n",
      " VV0073_18C  calibrated VV0073_18 ...               0            INERT\n",
      " VV0074_15C  calibrated VV0074_15 ...               2        NADIR_POW\n",
      " VV0075_13C  calibrated VV0075_13 ...               2        NADIR_POW\n",
      " VV0077_04C  calibrated VV0077_04 ...               2        NADIR_POW\n",
      " VV0075_14C  calibrated VV0075_14 ...               2        NADIR_POW\n",
      " VV0074_17C  calibrated VV0074_17 ...               2        NADIR_POW\n",
      " VV0075_15C  calibrated VV0075_15 ...               2        NADIR_POW\n",
      " VV0076_13C  calibrated VV0076_13 ...               2        NADIR_POW\n",
      " VV0077_05C  calibrated VV0077_05 ...               2        NADIR_POW\n",
      " VV0078_04C  calibrated VV0078_04 ...               2        NADIR_POW\n",
      " VV0074_18C  calibrated VV0074_18 ...               0            INERT\n",
      " VV0075_16C  calibrated VV0075_16 ...               2        NADIR_POW\n",
      " VV0077_06C  calibrated VV0077_06 ...               2        NADIR_POW\n",
      " VV0076_14C  calibrated VV0076_14 ...               2        NADIR_POW\n",
      " VV0075_17C  calibrated VV0075_17 ...               2        NADIR_POW\n",
      " VV0076_15C  calibrated VV0076_15 ...               2        NADIR_POW\n",
      "Length = 588 rows\n"
     ]
    }
   ],
   "source": [
    "# query the EPN-TAP service with astroquery, retrieve selected granules and writes a VOTable\n",
    "virtis = TapPlus(myurl)\n",
    "query1 = 'SELECT * FROM ' + mytable + \" WHERE granule_gid = 'calibrated' AND time_max <= 2453946.50000000 AND channel_id = 'VIRTIS_M_VIS'\"\n",
    "job = virtis.launch_job(query1)\n",
    "resultset = job.get_results()\n",
    "print(resultset)\n",
    "vot.writeto(resultset, 'toto.vot')"
   ]
  },
  {
   "cell_type": "code",
   "execution_count": 7,
   "metadata": {},
   "outputs": [],
   "source": [
    "# Alternatively: query service with pyvo, writes a local VOtable\n",
    "query1 = 'SELECT * FROM ' + mytable + \" WHERE granule_gid = 'calibrated' AND time_max <= 2453946.50000000 AND channel_id = 'VIRTIS_M_VIS'\"\n",
    "service = vo.dal.TAPService(myurl)\n",
    "resultset1 = service.search(query1)\n",
    "# store query result locally\n",
    "resultset1.to_table().write(output=\"result.vot\", format=\"votable\",overwrite=\"True\")"
   ]
  },
  {
   "cell_type": "code",
   "execution_count": 8,
   "metadata": {
    "scrolled": true
   },
   "outputs": [],
   "source": [
    "# extract start times\n",
    "timemin = (resultset1['time_min'])\n",
    "#timemin"
   ]
  },
  {
   "cell_type": "code",
   "execution_count": 9,
   "metadata": {
    "scrolled": true
   },
   "outputs": [
    {
     "data": {
      "image/png": "[encoded data removed]",
      "text/plain": [
       "<Figure size 640x480 with 1 Axes>"
      ]
     },
     "metadata": {},
     "output_type": "display_data"
    }
   ],
   "source": [
    "# plots solar distance vs time of session\n",
    "sundist = (resultset1['sun_distance_min'])\n",
    "p = plt.plot(timemin, sundist, 'ro', ms=2)"
   ]
  },
  {
   "cell_type": "code",
   "execution_count": 10,
   "metadata": {
    "scrolled": true
   },
   "outputs": [
    {
     "data": {
      "image/png": "[encoded data removed]",
      "text/plain": [
       "<Figure size 640x480 with 1 Axes>"
      ]
     },
     "metadata": {},
     "output_type": "display_data"
    }
   ],
   "source": [
    "# plots Southernmost latitude vs time of session\n",
    "lat = (resultset1['c2min'])\n",
    "p = plt.plot(timemin, lat, 'go', ms=2)\n",
    "p = plt.ylim(-90,90)"
   ]
  },
  {
   "cell_type": "markdown",
   "metadata": {},
   "source": [
    "Such plots can be used to monitor instrument or observational parameters included in the metadata table"
   ]
  },
  {
   "cell_type": "markdown",
   "metadata": {},
   "source": [
    "## 2- Use TOPCAT to manipulate metadata outside of Jupyter notebook"
   ]
  },
  {
   "cell_type": "markdown",
   "metadata": {},
   "source": [
    "Metadata are sent to TOPCAT using the Stilts scripting language (distributed with TOPCAT)\n",
    "- can be declared in Unix path, typically: set path = ($path /Applications/ApplisAstro/topcat/bin)\n",
    "- (adjust to your own system - Stilts may be embded in the TOPCAT bundle on Mac)"
   ]
  },
  {
   "cell_type": "code",
   "execution_count": 12,
   "metadata": {},
   "outputs": [],
   "source": [
    "# with TOPCAT open => send the table there for manipulation\n",
    "!/Applications/ApplisAstro/topcat/TOPCAT.app/Contents/Resources/bin/stilts tpipe ifmt=votable in=result.vot omode=topcat"
   ]
  },
  {
   "cell_type": "markdown",
   "metadata": {},
   "source": [
    "Metadata can then be plotted interactively inside TOPCAT"
   ]
  },
  {
   "cell_type": "markdown",
   "metadata": {},
   "source": [
    "Stilts can also be used as an external plotting tool (no need to launch TOPCAT)"
   ]
  },
  {
   "cell_type": "code",
   "execution_count": 13,
   "metadata": {},
   "outputs": [],
   "source": [
    "!/Applications/ApplisAstro/topcat/TOPCAT.app/Contents/Resources/bin/stilts plot2plane layer1=mark ifmt1=votable in1=result.vot \\\n",
    " ymax=90 x1=time_min y1=c2min"
   ]
  },
  {
   "cell_type": "markdown",
   "metadata": {},
   "source": [
    "Quit Stilts when you're done"
   ]
  },
  {
   "cell_type": "markdown",
   "metadata": {},
   "source": [
    "## 3- Retrieve a data file"
   ]
  },
  {
   "cell_type": "markdown",
   "metadata": {},
   "source": [
    "Assuming the file of interest is already identified"
   ]
  },
  {
   "cell_type": "code",
   "execution_count": 14,
   "metadata": {},
   "outputs": [
    {
     "name": "stdout",
     "output_type": "stream",
     "text": [
      "('granule_uid', 'granule_gid', 'obs_id', 'dataproduct_type', 'target_name', 'target_class', 'time_min', 'time_max', 'time_sampling_step_min', 'time_sampling_step_max', 'time_exp_min', 'time_exp_max', 'spectral_range_min', 'spectral_range_max', 'spectral_sampling_step_min', 'spectral_sampling_step_max', 'spectral_resolution_min', 'spectral_resolution_max', 'c1min', 'c1max', 'c2min', 'c2max', 'c3min', 'c3max', 's_region', 'c1_resol_min', 'c1_resol_max', 'c2_resol_min', 'c2_resol_max', 'c3_resol_min', 'c3_resol_max', 'spatial_frame_type', 'incidence_min', 'incidence_max', 'emergence_min', 'emergence_max', 'phase_min', 'phase_max', 'instrument_host_name', 'instrument_name', 'measurement_type', 'processing_level', 'creation_date', 'modification_date', 'release_date', 'service_title', 'access_url', 'access_format', 'access_estsize', 'time_scale', 'thumbnail_url', 'file_name', 'publisher', 'bib_reference', 'sun_distance_min', 'sun_distance_max', 'target_distance_min', 'target_distance_max', 'subsolar_longitude_min', 'subsolar_longitude_max', 'subsolar_latitude_min', 'subsolar_latitude_max', 'local_time_min', 'local_time_max', 'solar_longitude_min', 'solar_longitude_max', 'ra', 'dec', 'coverage', 'channel_id', 'nb_bands', 'nb_samples', 'nb_lines', 'orbit_nb', 'instrument_mode_id', 'science_case_id', 'sc_pointing_mode')\n"
     ]
    }
   ],
   "source": [
    "#only retrieves access_url for granule of interest\n",
    "service = vo.dal.TAPService(\"http://voparis-tap-planeto.obspm.fr/tap\")\n",
    "\n",
    "resultset = service.search(\"select * from vvex.epn_core where granule_uid = 'VI0025_08C'\")\n",
    "print(resultset.fieldnames)"
   ]
  },
  {
   "cell_type": "code",
   "execution_count": 15,
   "metadata": {
    "scrolled": true
   },
   "outputs": [
    {
     "name": "stdout",
     "output_type": "stream",
     "text": [
      "https://archives.esac.esa.int/psa/ftp/VENUS-EXPRESS/VIRTIS/VEX-V-VIRTIS-2-3-V3.0/DATA/MTP001/VIR0025/CALIBRATED/VI0025_08.CAL\n"
     ]
    }
   ],
   "source": [
    "for row in resultset:\n",
    "     print(row['access_url'])"
   ]
  },
  {
   "cell_type": "markdown",
   "metadata": {},
   "source": [
    "This particular service provides links to files in the PSA archive"
   ]
  },
  {
   "cell_type": "code",
   "execution_count": 16,
   "metadata": {},
   "outputs": [
    {
     "data": {
      "text/plain": [
       "'https://archives.esac.esa.int/psa/ftp/VENUS-EXPRESS/VIRTIS/VEX-V-VIRTIS-2-3-V3.0/DATA/MTP001/VIR0025/CALIBRATED/VI0025_08.CAL'"
      ]
     },
     "execution_count": 16,
     "metadata": {},
     "output_type": "execute_result"
    }
   ],
   "source": [
    "# no longer works?\n",
    "#url = row.getdataurl()\n",
    "#url\n",
    "# this is OK\n",
    "url = resultset['access_url', 0]\n",
    "url"
   ]
  },
  {
   "cell_type": "code",
   "execution_count": 17,
   "metadata": {},
   "outputs": [
    {
     "data": {
      "text/plain": [
       "'VI0025_08.CAL'"
      ]
     },
     "execution_count": 17,
     "metadata": {},
     "output_type": "execute_result"
    }
   ],
   "source": [
    "file_name = resultset['file_name', 0]\n",
    "file_name"
   ]
  },
  {
   "cell_type": "code",
   "execution_count": 20,
   "metadata": {
    "scrolled": false
   },
   "outputs": [],
   "source": [
    "# fetch file where indicated\n",
    "## urllib.request.urlretrieve(url, filename=file_name)"
   ]
  },
  {
   "cell_type": "markdown",
   "metadata": {},
   "source": [
    "Wait for the file to download"
   ]
  },
  {
   "cell_type": "markdown",
   "metadata": {},
   "source": [
    "## 4- Reading and plotting the data"
   ]
  },
  {
   "cell_type": "markdown",
   "metadata": {},
   "source": [
    "See Tutorial VVEX_demo_private.ipynb to learn how to read PDS3 files under IDL in the notebook. \n",
    "Beware IDLpy seems incompatible with astropy (IDL will crash if astropy is loaded)"
   ]
  }
 ],
 "metadata": {
  "kernelspec": {
   "display_name": "Python 3 (ipykernel)",
   "language": "python",
   "name": "python3"
  },
  "language_info": {
   "codemirror_mode": {
    "name": "ipython",
    "version": 3
   },
   "file_extension": ".py",
   "mimetype": "text/x-python",
   "name": "python",
   "nbconvert_exporter": "python",
   "pygments_lexer": "ipython3",
   "version": "3.9.13"
  }
 },
 "nbformat": 4,
 "nbformat_minor": 1
}
